{
 "cells": [
  {
   "cell_type": "code",
   "execution_count": 2,
   "metadata": {},
   "outputs": [],
   "source": [
    "import pandas as pd\n",
    "import numpy as np\n",
    "import requests\n",
    "from datetime import datetime\n",
    "import json\n",
    "from collections import defaultdict\n",
    "from concurrent.futures import ThreadPoolExecutor, as_completed"
   ]
  },
  {
   "cell_type": "markdown",
   "metadata": {},
   "source": [
    "Example of loading details from steamspy and steamcharts by id:"
   ]
  },
  {
   "cell_type": "code",
   "execution_count": null,
   "metadata": {},
   "outputs": [],
   "source": [
    "id = 1086940 #bg3  \n",
    "details = json.loads(requests.get(f\"https://steamspy.com/api.php?request=appdetails&appid={id}\").text)\n",
    "print(\"details:\", details)\n",
    "timestamps = json.loads(requests.get(f\"https://steamcharts.com/app/{id}/chart-data.json\").text)\n",
    "print(f\"{len(timestamps)} timestamps total, from {datetime.fromtimestamp(timestamps[0][0]/1000)}, to {datetime.fromtimestamp(timestamps[-1][0]/1000)}\")"
   ]
  },
  {
   "cell_type": "markdown",
   "metadata": {},
   "source": [
    "Finding max threads:"
   ]
  },
  {
   "cell_type": "code",
   "execution_count": 12,
   "metadata": {},
   "outputs": [
    {
     "name": "stdout",
     "output_type": "stream",
     "text": [
      "20\n"
     ]
    }
   ],
   "source": [
    "executor = ThreadPoolExecutor()\n",
    "print(executor._max_workers)"
   ]
  },
  {
   "cell_type": "markdown",
   "metadata": {},
   "source": [
    "Crawl csv's from steamspy and steamcharts:"
   ]
  },
  {
   "cell_type": "code",
   "execution_count": 19,
   "metadata": {},
   "outputs": [
    {
     "name": "stdout",
     "output_type": "stream",
     "text": [
      "(4000, {'appid': 4000, 'name': \"Garry's Mod\", 'developer': 'Facepunch Studios', 'publisher': 'Valve', 'positive': 988692, 'negative': 33403, 'average_forever': 11183, 'average_2weeks': 362, 'median_forever': 1406, 'median_2weeks': 106, 'price': 999, 'initialprice': 999, 'discount': 0, 'ccu': 23545, 'languages': ['English', 'French', 'Italian', 'German', 'Spanish - Spain', 'Bulgarian', 'Czech', 'Danish', 'Dutch', 'Finnish', 'Greek', 'Hungarian', 'Japanese', 'Korean', 'Norwegian', 'Polish', 'Portuguese - Portugal', 'Portuguese - Brazil', 'Russian', 'Simplified Chinese', 'Swedish', 'Thai', 'Traditional Chinese', 'Turkish', 'Ukrainian'], 'genre': ['Casual', 'Indie', 'Simulation'], 'tags': ['Sandbox', 'Physics', 'Moddable', 'Multiplayer', 'Building', 'Casual', 'Singleplayer', 'Co-op', 'Online Co-Op', 'Simulation', 'First-Person', 'FPS', 'Action', 'Shooter', 'Comedy', 'Funny', 'Indie', 'PvP', 'Realistic', 'Exploration'], 'min_owners': 20000000, 'max_owners': 50000000}, {datetime.datetime(2012, 7, 1, 0, 0): 12253.0, datetime.datetime(2012, 8, 1, 0, 0): 10711.0, datetime.datetime(2012, 9, 1, 0, 0): 11674.0, datetime.datetime(2012, 10, 1, 0, 0): 14158.0, datetime.datetime(2012, 11, 1, 0, 0): 17995.0, datetime.datetime(2012, 12, 1, 0, 0): 22009.0, datetime.datetime(2013, 1, 1, 0, 0): 24427.0, datetime.datetime(2013, 2, 1, 0, 0): 28488.0, datetime.datetime(2013, 3, 1, 0, 0): 28326.0, datetime.datetime(2013, 4, 1, 0, 0): 27237.0, datetime.datetime(2013, 5, 1, 0, 0): 22094.0, datetime.datetime(2013, 6, 1, 0, 0): 23434.0, datetime.datetime(2013, 7, 1, 0, 0): 33522.0, datetime.datetime(2013, 8, 1, 0, 0): 34321.0, datetime.datetime(2013, 9, 1, 0, 0): 47070.0, datetime.datetime(2013, 10, 1, 0, 0): 33252.0, datetime.datetime(2013, 11, 1, 0, 0): 38574.0, datetime.datetime(2013, 12, 1, 0, 0): 53559.0, datetime.datetime(2014, 1, 1, 0, 0): 57327.0, datetime.datetime(2014, 2, 1, 0, 0): 53387.0, datetime.datetime(2014, 3, 1, 0, 0): 47455.0, datetime.datetime(2014, 4, 1, 0, 0): 48674.0, datetime.datetime(2014, 5, 1, 0, 0): 47497.0, datetime.datetime(2014, 6, 1, 0, 0): 68101.0, datetime.datetime(2014, 7, 1, 0, 0): 61425.0, datetime.datetime(2014, 8, 1, 0, 0): 51503.0, datetime.datetime(2014, 9, 1, 0, 0): 52741.0, datetime.datetime(2014, 10, 1, 0, 0): 54617.0, datetime.datetime(2014, 11, 1, 0, 0): 60734.0, datetime.datetime(2014, 12, 1, 0, 0): 59773.0, datetime.datetime(2015, 1, 1, 0, 0): 73750.0, datetime.datetime(2015, 2, 1, 0, 0): 67527.0, datetime.datetime(2015, 3, 1, 0, 0): 65458.0, datetime.datetime(2015, 4, 1, 0, 0): 59154.0, datetime.datetime(2015, 5, 1, 0, 0): 52285.0, datetime.datetime(2015, 6, 1, 0, 0): 51539.0, datetime.datetime(2015, 7, 1, 0, 0): 53414.0, datetime.datetime(2015, 8, 1, 0, 0): 57865.0, datetime.datetime(2015, 9, 1, 0, 0): 51555.0, datetime.datetime(2015, 10, 1, 0, 0): 50740.0, datetime.datetime(2015, 11, 1, 0, 0): 60907.0, datetime.datetime(2015, 12, 1, 0, 0): 65324.0, datetime.datetime(2016, 1, 1, 0, 0): 69854.0, datetime.datetime(2016, 2, 1, 0, 0): 64930.0, datetime.datetime(2016, 3, 1, 0, 0): 58183.0, datetime.datetime(2016, 4, 1, 0, 0): 59069.0, datetime.datetime(2016, 5, 1, 0, 0): 58486.0, datetime.datetime(2016, 6, 1, 0, 0): 59819.0, datetime.datetime(2016, 7, 1, 0, 0): 59522.0, datetime.datetime(2016, 8, 1, 0, 0): 56748.0, datetime.datetime(2016, 9, 1, 0, 0): 53570.0, datetime.datetime(2016, 10, 1, 0, 0): 51015.0, datetime.datetime(2016, 11, 1, 0, 0): 56678.0, datetime.datetime(2016, 12, 1, 0, 0): 60887.0, datetime.datetime(2017, 1, 1, 0, 0): 68016.0, datetime.datetime(2017, 2, 1, 0, 0): 62069.0, datetime.datetime(2017, 3, 1, 0, 0): 57946.0, datetime.datetime(2017, 4, 1, 0, 0): 59032.0, datetime.datetime(2017, 5, 1, 0, 0): 57000.0, datetime.datetime(2017, 6, 1, 0, 0): 54424.0, datetime.datetime(2017, 7, 1, 0, 0): 53019.0, datetime.datetime(2017, 8, 1, 0, 0): 53370.0, datetime.datetime(2017, 9, 1, 0, 0): 52726.0, datetime.datetime(2017, 10, 1, 0, 0): 52376.0, datetime.datetime(2017, 11, 1, 0, 0): 52605.0, datetime.datetime(2017, 12, 1, 0, 0): 53203.0, datetime.datetime(2018, 1, 1, 0, 0): 60078.0, datetime.datetime(2018, 2, 1, 0, 0): 53530.0, datetime.datetime(2018, 3, 1, 0, 0): 50266.0, datetime.datetime(2018, 4, 1, 0, 0): 46921.0, datetime.datetime(2018, 5, 1, 0, 0): 47581.0, datetime.datetime(2018, 6, 1, 0, 0): 52300.0, datetime.datetime(2018, 7, 1, 0, 0): 52636.0, datetime.datetime(2018, 8, 1, 0, 0): 48101.0, datetime.datetime(2018, 9, 1, 0, 0): 45605.0, datetime.datetime(2018, 10, 1, 0, 0): 45573.0, datetime.datetime(2018, 11, 1, 0, 0): 49693.0, datetime.datetime(2018, 12, 1, 0, 0): 48799.0, datetime.datetime(2019, 1, 1, 0, 0): 53218.0, datetime.datetime(2019, 2, 1, 0, 0): 49239.0, datetime.datetime(2019, 3, 1, 0, 0): 48267.0, datetime.datetime(2019, 4, 1, 0, 0): 48291.0, datetime.datetime(2019, 5, 1, 0, 0): 47105.0, datetime.datetime(2019, 6, 1, 0, 0): 47984.0, datetime.datetime(2019, 7, 1, 0, 0): 47362.0, datetime.datetime(2019, 8, 1, 0, 0): 41907.0, datetime.datetime(2019, 9, 1, 0, 0): 41436.0, datetime.datetime(2019, 10, 1, 0, 0): 39520.0, datetime.datetime(2019, 11, 1, 0, 0): 41070.0, datetime.datetime(2019, 12, 1, 0, 0): 44534.0, datetime.datetime(2020, 1, 1, 0, 0): 49001.0, datetime.datetime(2020, 2, 1, 0, 0): 45063.0, datetime.datetime(2020, 3, 1, 0, 0): 61933.0, datetime.datetime(2020, 4, 1, 0, 0): 59682.0, datetime.datetime(2020, 5, 1, 0, 0): 52658.0, datetime.datetime(2020, 6, 1, 0, 0): 42557.0, datetime.datetime(2020, 7, 1, 0, 0): 42318.0, datetime.datetime(2020, 8, 1, 0, 0): 41437.0, datetime.datetime(2020, 9, 1, 0, 0): 38216.0, datetime.datetime(2020, 10, 1, 0, 0): 39824.0, datetime.datetime(2020, 11, 1, 0, 0): 41428.0, datetime.datetime(2020, 12, 1, 0, 0): 41597.0, datetime.datetime(2021, 1, 1, 0, 0): 46668.0, datetime.datetime(2021, 2, 1, 0, 0): 45995.0, datetime.datetime(2021, 3, 1, 0, 0): 42699.0, datetime.datetime(2021, 4, 1, 0, 0): 41837.0, datetime.datetime(2021, 5, 1, 0, 0): 41150.0, datetime.datetime(2021, 6, 1, 0, 0): 39465.0, datetime.datetime(2021, 7, 1, 0, 0): 39573.0, datetime.datetime(2021, 8, 1, 0, 0): 41736.0, datetime.datetime(2021, 9, 1, 0, 0): 39242.0, datetime.datetime(2021, 10, 1, 0, 0): 44654.0, datetime.datetime(2021, 11, 1, 0, 0): 40869.0, datetime.datetime(2021, 12, 1, 0, 0): 38682.0, datetime.datetime(2022, 1, 1, 0, 0): 45812.0, datetime.datetime(2022, 2, 1, 0, 0): 43667.0, datetime.datetime(2022, 3, 1, 0, 0): 40548.0, datetime.datetime(2022, 4, 1, 0, 0): 40079.0, datetime.datetime(2022, 5, 1, 0, 0): 40925.0, datetime.datetime(2022, 6, 1, 0, 0): 42290.0, datetime.datetime(2022, 7, 1, 0, 0): 43359.0, datetime.datetime(2022, 8, 1, 0, 0): 44204.0, datetime.datetime(2022, 9, 1, 0, 0): 44439.0, datetime.datetime(2022, 10, 1, 0, 0): 40118.0, datetime.datetime(2022, 11, 1, 0, 0): 44316.0, datetime.datetime(2022, 12, 1, 0, 0): 39296.0, datetime.datetime(2023, 1, 1, 0, 0): 45181.0, datetime.datetime(2023, 2, 1, 0, 0): 43508.0, datetime.datetime(2023, 3, 1, 0, 0): 38970.0, datetime.datetime(2023, 4, 1, 0, 0): 38939.0, datetime.datetime(2023, 5, 1, 0, 0): 38623.0, datetime.datetime(2023, 6, 1, 0, 0): 38960.0, datetime.datetime(2023, 7, 1, 0, 0): 39463.0, datetime.datetime(2023, 8, 1, 0, 0): 36844.0, datetime.datetime(2023, 9, 1, 0, 0): 34486.0, datetime.datetime(2023, 10, 1, 0, 0): 34157.0, datetime.datetime(2023, 11, 1, 0, 0): 36290.0, datetime.datetime(2023, 12, 1, 0, 0): 34270.0})\n"
     ]
    }
   ],
   "source": [
    "def try_parse_date(date):\n",
    "    for fmt in [\"%d %b, %Y\", \"%d %b. %Y\", \"%b %Y\"]:\n",
    "        try:\n",
    "            return datetime.strptime(date, fmt)\n",
    "        except ValueError:\n",
    "            pass\n",
    "    return None\n",
    "\n",
    "def load_game(id):\n",
    "    try:\n",
    "        details = json.loads(requests.get(f\"https://steamspy.com/api.php?request=appdetails&appid={id}\").text)\n",
    "        owners = details['owners'].replace(',', '').split(' .. ')\n",
    "        details['min_owners'] = int(owners[0])\n",
    "        details['max_owners'] = int(owners[1])\n",
    "        details['genre'] = details['genre'].split(', ')\n",
    "        details['languages'] = details['languages'].split(', ')\n",
    "        details['tags'] = list(details['tags'].keys()) if len(details['tags']) > 0 else []\n",
    "        details['price'] = int(details['price']) if details['price'] is not None else np.NaN\n",
    "        details['initialprice'] = int(details['initialprice']) if details['initialprice'] is not None else np.NaN\n",
    "        details['discount'] = int(details['discount']) if details['discount'] is not None else np.NaN\n",
    "        for k in ['score_rank', 'userscore', 'owners']:\n",
    "            details.pop(k, None)\n",
    "        # try:\n",
    "        #     info = json.loads(requests.get(f\"https://store.steampowered.com/api/appdetails?appids={id}\").text)[str(id)]['data']\n",
    "        #     details['platforms'] = info['platforms'].keys() if 'platforms' in info else None\n",
    "        #     details['metacritic_score'] = info['metacritic']['score'] if 'metacritic' in info else None\n",
    "        #     details['recommendations'] = info['recommendations']['total'] if 'recommendations' in info else None\n",
    "        #     details['relese_date'] = try_parse_date(info['release_date']['date']) if 'release_date' in info else None\n",
    "        #     details['required_age'] = info['required_age'] if 'required_age' in info else None\n",
    "        #     details['controller_support'] = info['controller_support'] if 'controller_support' in info else None\n",
    "        # except Exception as e:\n",
    "        #     print(f\"(steampowered), id: {id}\", e)\n",
    "\n",
    "    except Exception as e:\n",
    "        details = None\n",
    "        print(f\"(steamspy), id: {id}\", e)\n",
    "    try:\n",
    "        timestamps = json.loads(requests.get(f\"https://steamcharts.com/app/{id}/chart-data.json\").text)\n",
    "        monthly_avgs = defaultdict(list)\n",
    "        for pair in timestamps:\n",
    "            date = datetime.fromtimestamp(pair[0] / 1000)\n",
    "            monthly_avgs[datetime(date.year, date.month, 1)].append(pair[1])\n",
    "        timestamps = {m: float(np.max(v)) for m, v in monthly_avgs.items()}\n",
    "    except Exception as e:\n",
    "        timestamps = None\n",
    "        print(f\"(steamcharts), id: {id}\", e)\n",
    "    return id, details, timestamps\n",
    "\n",
    "print(load_game(4000))"
   ]
  },
  {
   "cell_type": "code",
   "execution_count": 20,
   "metadata": {},
   "outputs": [
    {
     "name": "stdout",
     "output_type": "stream",
     "text": [
      "(0, 19) (0, 138)\n",
      "Starting to load page: 0\n",
      "(steamcharts), id: 901583 Expecting value: line 1 column 1 (char 0)\n",
      "(steamcharts), id: 774171 Expecting value: line 1 column 1 (char 0)\n",
      "(steamcharts), id: 900883 Expecting value: line 1 column 1 (char 0)\n",
      "(steamcharts), id: 56437 Expecting value: line 1 column 1 (char 0)\n",
      "(steamcharts), id: 774861 Expecting value: line 1 column 1 (char 0)\n",
      "(steamcharts), id: 774361 Expecting value: line 1 column 1 (char 0)\n",
      "Starting to load page: 1\n",
      "(steamcharts), id: 33229 Expecting value: line 1 column 1 (char 0)\n",
      "(steamcharts), id: 774241 Expecting value: line 1 column 1 (char 0)\n",
      "(steamcharts), id: 773951 Expecting value: line 1 column 1 (char 0)\n"
     ]
    },
    {
     "ename": "KeyboardInterrupt",
     "evalue": "",
     "output_type": "error",
     "traceback": [
      "\u001b[1;31m---------------------------------------------------------------------------\u001b[0m",
      "\u001b[1;31mKeyboardInterrupt\u001b[0m                         Traceback (most recent call last)",
      "Cell \u001b[1;32mIn[20], line 33\u001b[0m\n\u001b[0;32m     28\u001b[0m                     \u001b[38;5;28mprint\u001b[39m(\u001b[38;5;124m\"\u001b[39m\u001b[38;5;124m(processing)\u001b[39m\u001b[38;5;124m\"\u001b[39m,future, e)\n\u001b[0;32m     30\u001b[0m         page \u001b[38;5;241m+\u001b[39m\u001b[38;5;241m=\u001b[39m \u001b[38;5;241m1\u001b[39m\n\u001b[1;32m---> 33\u001b[0m details_df, timestamps_df \u001b[38;5;241m=\u001b[39m \u001b[43mload\u001b[49m\u001b[43m(\u001b[49m\u001b[43mmax_workers\u001b[49m\u001b[43m \u001b[49m\u001b[38;5;241;43m=\u001b[39;49m\u001b[43m \u001b[49m\u001b[38;5;241;43m20\u001b[39;49m\u001b[43m,\u001b[49m\u001b[43m \u001b[49m\u001b[43mdetails_name\u001b[49m\u001b[38;5;241;43m=\u001b[39;49m\u001b[38;5;124;43m\"\u001b[39;49m\u001b[38;5;124;43mtest_details.csv\u001b[39;49m\u001b[38;5;124;43m\"\u001b[39;49m\u001b[43m,\u001b[49m\u001b[43m \u001b[49m\u001b[43mtimestamps_name\u001b[49m\u001b[38;5;241;43m=\u001b[39;49m\u001b[38;5;124;43m\"\u001b[39;49m\u001b[38;5;124;43mtest_timestamps.csv\u001b[39;49m\u001b[38;5;124;43m\"\u001b[39;49m\u001b[43m)\u001b[49m\n\u001b[0;32m     37\u001b[0m \u001b[38;5;28mprint\u001b[39m(details_df\u001b[38;5;241m.\u001b[39mdtypes)\n\u001b[0;32m     38\u001b[0m \u001b[38;5;28mprint\u001b[39m(timestamps_df\u001b[38;5;241m.\u001b[39mdtypes)\n",
      "Cell \u001b[1;32mIn[20], line 26\u001b[0m, in \u001b[0;36mload\u001b[1;34m(page, overwrite, max_workers, details_name, timestamps_name)\u001b[0m\n\u001b[0;32m     24\u001b[0m         details_df\u001b[38;5;241m.\u001b[39mloc[\u001b[38;5;28mid\u001b[39m] \u001b[38;5;241m=\u001b[39m details\n\u001b[0;32m     25\u001b[0m     \u001b[38;5;28;01mif\u001b[39;00m timestamps \u001b[38;5;129;01mis\u001b[39;00m \u001b[38;5;129;01mnot\u001b[39;00m \u001b[38;5;28;01mNone\u001b[39;00m:\n\u001b[1;32m---> 26\u001b[0m         \u001b[43mtimestamps_df\u001b[49m\u001b[38;5;241;43m.\u001b[39;49m\u001b[43mloc\u001b[49m\u001b[43m[\u001b[49m\u001b[38;5;28;43mid\u001b[39;49m\u001b[43m]\u001b[49m \u001b[38;5;241m=\u001b[39m timestamps\n\u001b[0;32m     27\u001b[0m \u001b[38;5;28;01mexcept\u001b[39;00m \u001b[38;5;167;01mException\u001b[39;00m \u001b[38;5;28;01mas\u001b[39;00m e:\n\u001b[0;32m     28\u001b[0m     \u001b[38;5;28mprint\u001b[39m(\u001b[38;5;124m\"\u001b[39m\u001b[38;5;124m(processing)\u001b[39m\u001b[38;5;124m\"\u001b[39m,future, e)\n",
      "File \u001b[1;32m~\\AppData\\Roaming\\Python\\Python310\\site-packages\\pandas\\core\\indexing.py:885\u001b[0m, in \u001b[0;36m_LocationIndexer.__setitem__\u001b[1;34m(self, key, value)\u001b[0m\n\u001b[0;32m    882\u001b[0m \u001b[38;5;28mself\u001b[39m\u001b[38;5;241m.\u001b[39m_has_valid_setitem_indexer(key)\n\u001b[0;32m    884\u001b[0m iloc \u001b[38;5;241m=\u001b[39m \u001b[38;5;28mself\u001b[39m \u001b[38;5;28;01mif\u001b[39;00m \u001b[38;5;28mself\u001b[39m\u001b[38;5;241m.\u001b[39mname \u001b[38;5;241m==\u001b[39m \u001b[38;5;124m\"\u001b[39m\u001b[38;5;124miloc\u001b[39m\u001b[38;5;124m\"\u001b[39m \u001b[38;5;28;01melse\u001b[39;00m \u001b[38;5;28mself\u001b[39m\u001b[38;5;241m.\u001b[39mobj\u001b[38;5;241m.\u001b[39miloc\n\u001b[1;32m--> 885\u001b[0m \u001b[43miloc\u001b[49m\u001b[38;5;241;43m.\u001b[39;49m\u001b[43m_setitem_with_indexer\u001b[49m\u001b[43m(\u001b[49m\u001b[43mindexer\u001b[49m\u001b[43m,\u001b[49m\u001b[43m \u001b[49m\u001b[43mvalue\u001b[49m\u001b[43m,\u001b[49m\u001b[43m \u001b[49m\u001b[38;5;28;43mself\u001b[39;49m\u001b[38;5;241;43m.\u001b[39;49m\u001b[43mname\u001b[49m\u001b[43m)\u001b[49m\n",
      "File \u001b[1;32m~\\AppData\\Roaming\\Python\\Python310\\site-packages\\pandas\\core\\indexing.py:1883\u001b[0m, in \u001b[0;36m_iLocIndexer._setitem_with_indexer\u001b[1;34m(self, indexer, value, name)\u001b[0m\n\u001b[0;32m   1880\u001b[0m     indexer, missing \u001b[38;5;241m=\u001b[39m convert_missing_indexer(indexer)\n\u001b[0;32m   1882\u001b[0m     \u001b[38;5;28;01mif\u001b[39;00m missing:\n\u001b[1;32m-> 1883\u001b[0m         \u001b[38;5;28;43mself\u001b[39;49m\u001b[38;5;241;43m.\u001b[39;49m\u001b[43m_setitem_with_indexer_missing\u001b[49m\u001b[43m(\u001b[49m\u001b[43mindexer\u001b[49m\u001b[43m,\u001b[49m\u001b[43m \u001b[49m\u001b[43mvalue\u001b[49m\u001b[43m)\u001b[49m\n\u001b[0;32m   1884\u001b[0m         \u001b[38;5;28;01mreturn\u001b[39;00m\n\u001b[0;32m   1886\u001b[0m \u001b[38;5;28;01mif\u001b[39;00m name \u001b[38;5;241m==\u001b[39m \u001b[38;5;124m\"\u001b[39m\u001b[38;5;124mloc\u001b[39m\u001b[38;5;124m\"\u001b[39m:\n\u001b[0;32m   1887\u001b[0m     \u001b[38;5;66;03m# must come after setting of missing\u001b[39;00m\n",
      "File \u001b[1;32m~\\AppData\\Roaming\\Python\\Python310\\site-packages\\pandas\\core\\indexing.py:2241\u001b[0m, in \u001b[0;36m_iLocIndexer._setitem_with_indexer_missing\u001b[1;34m(self, indexer, value)\u001b[0m\n\u001b[0;32m   2239\u001b[0m     \u001b[38;5;28mself\u001b[39m\u001b[38;5;241m.\u001b[39mobj\u001b[38;5;241m.\u001b[39m_mgr \u001b[38;5;241m=\u001b[39m df\u001b[38;5;241m.\u001b[39m_mgr\n\u001b[0;32m   2240\u001b[0m \u001b[38;5;28;01melse\u001b[39;00m:\n\u001b[1;32m-> 2241\u001b[0m     \u001b[38;5;28mself\u001b[39m\u001b[38;5;241m.\u001b[39mobj\u001b[38;5;241m.\u001b[39m_mgr \u001b[38;5;241m=\u001b[39m \u001b[38;5;28;43mself\u001b[39;49m\u001b[38;5;241;43m.\u001b[39;49m\u001b[43mobj\u001b[49m\u001b[38;5;241;43m.\u001b[39;49m\u001b[43m_append\u001b[49m\u001b[43m(\u001b[49m\u001b[43mvalue\u001b[49m\u001b[43m)\u001b[49m\u001b[38;5;241m.\u001b[39m_mgr\n\u001b[0;32m   2242\u001b[0m \u001b[38;5;28mself\u001b[39m\u001b[38;5;241m.\u001b[39mobj\u001b[38;5;241m.\u001b[39m_maybe_update_cacher(clear\u001b[38;5;241m=\u001b[39m\u001b[38;5;28;01mTrue\u001b[39;00m)\n",
      "File \u001b[1;32m~\\AppData\\Roaming\\Python\\Python310\\site-packages\\pandas\\core\\frame.py:10227\u001b[0m, in \u001b[0;36mDataFrame._append\u001b[1;34m(self, other, ignore_index, verify_integrity, sort)\u001b[0m\n\u001b[0;32m  10224\u001b[0m \u001b[38;5;28;01melse\u001b[39;00m:\n\u001b[0;32m  10225\u001b[0m     to_concat \u001b[38;5;241m=\u001b[39m [\u001b[38;5;28mself\u001b[39m, other]\n\u001b[1;32m> 10227\u001b[0m result \u001b[38;5;241m=\u001b[39m \u001b[43mconcat\u001b[49m\u001b[43m(\u001b[49m\n\u001b[0;32m  10228\u001b[0m \u001b[43m    \u001b[49m\u001b[43mto_concat\u001b[49m\u001b[43m,\u001b[49m\n\u001b[0;32m  10229\u001b[0m \u001b[43m    \u001b[49m\u001b[43mignore_index\u001b[49m\u001b[38;5;241;43m=\u001b[39;49m\u001b[43mignore_index\u001b[49m\u001b[43m,\u001b[49m\n\u001b[0;32m  10230\u001b[0m \u001b[43m    \u001b[49m\u001b[43mverify_integrity\u001b[49m\u001b[38;5;241;43m=\u001b[39;49m\u001b[43mverify_integrity\u001b[49m\u001b[43m,\u001b[49m\n\u001b[0;32m  10231\u001b[0m \u001b[43m    \u001b[49m\u001b[43msort\u001b[49m\u001b[38;5;241;43m=\u001b[39;49m\u001b[43msort\u001b[49m\u001b[43m,\u001b[49m\n\u001b[0;32m  10232\u001b[0m \u001b[43m\u001b[49m\u001b[43m)\u001b[49m\n\u001b[0;32m  10233\u001b[0m \u001b[38;5;28;01mreturn\u001b[39;00m result\u001b[38;5;241m.\u001b[39m__finalize__(\u001b[38;5;28mself\u001b[39m, method\u001b[38;5;241m=\u001b[39m\u001b[38;5;124m\"\u001b[39m\u001b[38;5;124mappend\u001b[39m\u001b[38;5;124m\"\u001b[39m)\n",
      "File \u001b[1;32m~\\AppData\\Roaming\\Python\\Python310\\site-packages\\pandas\\core\\reshape\\concat.py:393\u001b[0m, in \u001b[0;36mconcat\u001b[1;34m(objs, axis, join, ignore_index, keys, levels, names, verify_integrity, sort, copy)\u001b[0m\n\u001b[0;32m    378\u001b[0m     copy \u001b[38;5;241m=\u001b[39m \u001b[38;5;28;01mFalse\u001b[39;00m\n\u001b[0;32m    380\u001b[0m op \u001b[38;5;241m=\u001b[39m _Concatenator(\n\u001b[0;32m    381\u001b[0m     objs,\n\u001b[0;32m    382\u001b[0m     axis\u001b[38;5;241m=\u001b[39maxis,\n\u001b[1;32m   (...)\u001b[0m\n\u001b[0;32m    390\u001b[0m     sort\u001b[38;5;241m=\u001b[39msort,\n\u001b[0;32m    391\u001b[0m )\n\u001b[1;32m--> 393\u001b[0m \u001b[38;5;28;01mreturn\u001b[39;00m \u001b[43mop\u001b[49m\u001b[38;5;241;43m.\u001b[39;49m\u001b[43mget_result\u001b[49m\u001b[43m(\u001b[49m\u001b[43m)\u001b[49m\n",
      "File \u001b[1;32m~\\AppData\\Roaming\\Python\\Python310\\site-packages\\pandas\\core\\reshape\\concat.py:680\u001b[0m, in \u001b[0;36m_Concatenator.get_result\u001b[1;34m(self)\u001b[0m\n\u001b[0;32m    676\u001b[0m             indexers[ax] \u001b[38;5;241m=\u001b[39m obj_labels\u001b[38;5;241m.\u001b[39mget_indexer(new_labels)\n\u001b[0;32m    678\u001b[0m     mgrs_indexers\u001b[38;5;241m.\u001b[39mappend((obj\u001b[38;5;241m.\u001b[39m_mgr, indexers))\n\u001b[1;32m--> 680\u001b[0m new_data \u001b[38;5;241m=\u001b[39m \u001b[43mconcatenate_managers\u001b[49m\u001b[43m(\u001b[49m\n\u001b[0;32m    681\u001b[0m \u001b[43m    \u001b[49m\u001b[43mmgrs_indexers\u001b[49m\u001b[43m,\u001b[49m\u001b[43m \u001b[49m\u001b[38;5;28;43mself\u001b[39;49m\u001b[38;5;241;43m.\u001b[39;49m\u001b[43mnew_axes\u001b[49m\u001b[43m,\u001b[49m\u001b[43m \u001b[49m\u001b[43mconcat_axis\u001b[49m\u001b[38;5;241;43m=\u001b[39;49m\u001b[38;5;28;43mself\u001b[39;49m\u001b[38;5;241;43m.\u001b[39;49m\u001b[43mbm_axis\u001b[49m\u001b[43m,\u001b[49m\u001b[43m \u001b[49m\u001b[43mcopy\u001b[49m\u001b[38;5;241;43m=\u001b[39;49m\u001b[38;5;28;43mself\u001b[39;49m\u001b[38;5;241;43m.\u001b[39;49m\u001b[43mcopy\u001b[49m\n\u001b[0;32m    682\u001b[0m \u001b[43m\u001b[49m\u001b[43m)\u001b[49m\n\u001b[0;32m    683\u001b[0m \u001b[38;5;28;01mif\u001b[39;00m \u001b[38;5;129;01mnot\u001b[39;00m \u001b[38;5;28mself\u001b[39m\u001b[38;5;241m.\u001b[39mcopy \u001b[38;5;129;01mand\u001b[39;00m \u001b[38;5;129;01mnot\u001b[39;00m using_copy_on_write():\n\u001b[0;32m    684\u001b[0m     new_data\u001b[38;5;241m.\u001b[39m_consolidate_inplace()\n",
      "File \u001b[1;32m~\\AppData\\Roaming\\Python\\Python310\\site-packages\\pandas\\core\\internals\\concat.py:157\u001b[0m, in \u001b[0;36mconcatenate_managers\u001b[1;34m(mgrs_indexers, axes, concat_axis, copy)\u001b[0m\n\u001b[0;32m    154\u001b[0m     out\u001b[38;5;241m.\u001b[39maxes \u001b[38;5;241m=\u001b[39m axes\n\u001b[0;32m    155\u001b[0m     \u001b[38;5;28;01mreturn\u001b[39;00m out\n\u001b[1;32m--> 157\u001b[0m concat_plan \u001b[38;5;241m=\u001b[39m \u001b[43m_get_combined_plan\u001b[49m\u001b[43m(\u001b[49m\u001b[43mmgrs\u001b[49m\u001b[43m)\u001b[49m\n\u001b[0;32m    159\u001b[0m blocks \u001b[38;5;241m=\u001b[39m []\n\u001b[0;32m    160\u001b[0m values: ArrayLike\n",
      "File \u001b[1;32m~\\AppData\\Roaming\\Python\\Python310\\site-packages\\pandas\\core\\internals\\concat.py:304\u001b[0m, in \u001b[0;36m_get_combined_plan\u001b[1;34m(mgrs)\u001b[0m\n\u001b[0;32m    301\u001b[0m max_len \u001b[38;5;241m=\u001b[39m mgrs[\u001b[38;5;241m0\u001b[39m]\u001b[38;5;241m.\u001b[39mshape[\u001b[38;5;241m0\u001b[39m]\n\u001b[0;32m    303\u001b[0m blknos_list \u001b[38;5;241m=\u001b[39m [mgr\u001b[38;5;241m.\u001b[39mblknos \u001b[38;5;28;01mfor\u001b[39;00m mgr \u001b[38;5;129;01min\u001b[39;00m mgrs]\n\u001b[1;32m--> 304\u001b[0m pairs \u001b[38;5;241m=\u001b[39m \u001b[43mlibinternals\u001b[49m\u001b[38;5;241;43m.\u001b[39;49m\u001b[43mget_concat_blkno_indexers\u001b[49m\u001b[43m(\u001b[49m\u001b[43mblknos_list\u001b[49m\u001b[43m)\u001b[49m\n\u001b[0;32m    305\u001b[0m \u001b[38;5;28;01mfor\u001b[39;00m ind, (blknos, bp) \u001b[38;5;129;01min\u001b[39;00m \u001b[38;5;28menumerate\u001b[39m(pairs):\n\u001b[0;32m    306\u001b[0m     \u001b[38;5;66;03m# assert bp.is_slice_like\u001b[39;00m\n\u001b[0;32m    307\u001b[0m     \u001b[38;5;66;03m# assert len(bp) > 0\u001b[39;00m\n\u001b[0;32m    309\u001b[0m     units_for_bp \u001b[38;5;241m=\u001b[39m []\n",
      "\u001b[1;31mKeyboardInterrupt\u001b[0m: "
     ]
    }
   ],
   "source": [
    "def load(page=0, overwrite = True, max_workers=10, details_name = \"details.csv\", timestamps_name = \"timestamps.csv\"):\n",
    "    if overwrite:\n",
    "        details_df = pd.DataFrame(columns=load_game(70)[1].keys())  # https://steamspy.com/api.php\n",
    "        timestamps_df = pd.DataFrame(columns=pd.date_range(start=datetime(2012, 7, 1), end=datetime.now(), freq='MS'), dtype=int)  # https://steamcharts.com/about\n",
    "    else:\n",
    "        details_df = pd.read_csv(details_name, index_col=0)\n",
    "        timestamps_df = pd.read_csv(timestamps_name, index_col=0)\n",
    "    print(details_df.shape, timestamps_df.shape)\n",
    "\n",
    "    while (True):\n",
    "        details_df.to_csv(details_name)\n",
    "        timestamps_df.to_csv(timestamps_name)\n",
    "        print(\"Starting to load page:\", page)\n",
    "        request = requests.get(f\"https://steamspy.com/api.php?request=all&page={page}\")\n",
    "        if request.status_code != 200:\n",
    "            print(\"Exiting on page:\", page)\n",
    "            return details_df, timestamps_df\n",
    "        \n",
    "        with ThreadPoolExecutor(max_workers=max_workers) as executor:\n",
    "            for future in as_completed({executor.submit(load_game, id): id for id in json.loads(request.text).keys()}):\n",
    "                try:\n",
    "                    id, details, timestamps = future.result()\n",
    "                    if details is not None:\n",
    "                        details_df.loc[id] = details\n",
    "                    if timestamps is not None:\n",
    "                        timestamps_df.loc[id] = timestamps\n",
    "                except Exception as e:\n",
    "                    print(\"(processing)\",future, e)\n",
    "\n",
    "        page += 1\n",
    "        \n",
    "\n",
    "details_df, timestamps_df = load(max_workers = 20, details_name=\"test_details.csv\", timestamps_name=\"test_timestamps.csv\")\n",
    "\n",
    "\n",
    "\n",
    "print(details_df.dtypes)\n",
    "print(timestamps_df.dtypes)\n",
    "print(\"---------------------------------------------------------------\")\n",
    "print(details_df)\n",
    "print(\"---------------------------------------------------------------\")\n",
    "print(timestamps_df)"
   ]
  },
  {
   "cell_type": "code",
   "execution_count": null,
   "metadata": {},
   "outputs": [],
   "source": []
  },
  {
   "cell_type": "code",
   "execution_count": null,
   "metadata": {},
   "outputs": [],
   "source": [
    "# from steam import Steam\n",
    "# from os import environ\n",
    "# from dotenv import load_dotenv\n",
    "\n",
    "# load_dotenv()\n",
    "# KEY = environ[\"STEAM_API_KEY\"]\n",
    "# steam = Steam(KEY)\n",
    "\n",
    "# print(steam.apps.get_app_details(70))\n",
    "# print(steam.apps.search_games(\"baldurs gate 3\"))"
   ]
  },
  {
   "cell_type": "code",
   "execution_count": 14,
   "metadata": {},
   "outputs": [
    {
     "name": "stdout",
     "output_type": "stream",
     "text": [
      "(steampowered), id: 70 'dict_values' object is not subscriptable\n",
      "(70, {'appid': 70, 'name': 'Half-Life', 'developer': 'Valve', 'publisher': 'Valve', 'score_rank': '', 'positive': 110243, 'negative': 3856, 'userscore': 0, 'owners': '10,000,000 .. 20,000,000', 'average_forever': 564, 'average_2weeks': 105, 'median_forever': 106, 'median_2weeks': 62, 'price': 999, 'initialprice': 999, 'discount': 0, 'ccu': 3847, 'languages': ['English', 'French', 'German', 'Italian', 'Spanish - Spain', 'Simplified Chinese', 'Traditional Chinese', 'Korean'], 'genre': ['Action'], 'tags': ['FPS', 'Classic', 'Sci-fi', \"1990's\", 'Multiplayer', 'Singleplayer', 'Action', 'Shooter', 'First-Person', 'Aliens', 'Silent Protagonist', 'Story Rich', 'Atmospheric', 'Moddable', 'Adventure', 'Gore', 'Retro', 'Action-Adventure', 'Difficult', 'PvP'], 'min_owners': 10000000, 'max_owners': 20000000}, {datetime.datetime(2012, 7, 1, 0, 0): 674.0, datetime.datetime(2012, 8, 1, 0, 0): 419.0, datetime.datetime(2012, 9, 1, 0, 0): 464.0, datetime.datetime(2012, 10, 1, 0, 0): 345.0, datetime.datetime(2012, 11, 1, 0, 0): 356.0, datetime.datetime(2012, 12, 1, 0, 0): 597.0, datetime.datetime(2013, 1, 1, 0, 0): 490.0, datetime.datetime(2013, 2, 1, 0, 0): 721.0, datetime.datetime(2013, 3, 1, 0, 0): 416.0, datetime.datetime(2013, 4, 1, 0, 0): 359.0, datetime.datetime(2013, 5, 1, 0, 0): 324.0, datetime.datetime(2013, 6, 1, 0, 0): 343.0, datetime.datetime(2013, 7, 1, 0, 0): 2132.0, datetime.datetime(2013, 8, 1, 0, 0): 464.0, datetime.datetime(2013, 9, 1, 0, 0): 411.0, datetime.datetime(2013, 10, 1, 0, 0): 1169.0, datetime.datetime(2013, 11, 1, 0, 0): 682.0, datetime.datetime(2013, 12, 1, 0, 0): 687.0, datetime.datetime(2014, 1, 1, 0, 0): 1107.0, datetime.datetime(2014, 2, 1, 0, 0): 457.0, datetime.datetime(2014, 3, 1, 0, 0): 411.0, datetime.datetime(2014, 4, 1, 0, 0): 389.0, datetime.datetime(2014, 5, 1, 0, 0): 379.0, datetime.datetime(2014, 6, 1, 0, 0): 836.0, datetime.datetime(2014, 7, 1, 0, 0): 493.0, datetime.datetime(2014, 8, 1, 0, 0): 388.0, datetime.datetime(2014, 9, 1, 0, 0): 1317.0, datetime.datetime(2014, 10, 1, 0, 0): 1014.0, datetime.datetime(2014, 11, 1, 0, 0): 732.0, datetime.datetime(2014, 12, 1, 0, 0): 1041.0, datetime.datetime(2015, 1, 1, 0, 0): 941.0, datetime.datetime(2015, 2, 1, 0, 0): 529.0, datetime.datetime(2015, 3, 1, 0, 0): 529.0, datetime.datetime(2015, 4, 1, 0, 0): 523.0, datetime.datetime(2015, 5, 1, 0, 0): 458.0, datetime.datetime(2015, 6, 1, 0, 0): 1053.0, datetime.datetime(2015, 7, 1, 0, 0): 501.0, datetime.datetime(2015, 8, 1, 0, 0): 411.0, datetime.datetime(2015, 9, 1, 0, 0): 384.0, datetime.datetime(2015, 10, 1, 0, 0): 422.0, datetime.datetime(2015, 11, 1, 0, 0): 975.0, datetime.datetime(2015, 12, 1, 0, 0): 1037.0, datetime.datetime(2016, 1, 1, 0, 0): 1045.0, datetime.datetime(2016, 2, 1, 0, 0): 785.0, datetime.datetime(2016, 3, 1, 0, 0): 537.0, datetime.datetime(2016, 4, 1, 0, 0): 430.0, datetime.datetime(2016, 5, 1, 0, 0): 425.0, datetime.datetime(2016, 6, 1, 0, 0): 917.0, datetime.datetime(2016, 7, 1, 0, 0): 955.0, datetime.datetime(2016, 8, 1, 0, 0): 461.0, datetime.datetime(2016, 9, 1, 0, 0): 460.0, datetime.datetime(2016, 10, 1, 0, 0): 444.0, datetime.datetime(2016, 11, 1, 0, 0): 1019.0, datetime.datetime(2016, 12, 1, 0, 0): 1080.0, datetime.datetime(2017, 1, 1, 0, 0): 1170.0, datetime.datetime(2017, 2, 1, 0, 0): 640.0, datetime.datetime(2017, 3, 1, 0, 0): 591.0, datetime.datetime(2017, 4, 1, 0, 0): 509.0, datetime.datetime(2017, 5, 1, 0, 0): 502.0, datetime.datetime(2017, 6, 1, 0, 0): 1789.0, datetime.datetime(2017, 7, 1, 0, 0): 1798.0, datetime.datetime(2017, 8, 1, 0, 0): 688.0, datetime.datetime(2017, 9, 1, 0, 0): 678.0, datetime.datetime(2017, 10, 1, 0, 0): 586.0, datetime.datetime(2017, 11, 1, 0, 0): 1509.0, datetime.datetime(2017, 12, 1, 0, 0): 1604.0, datetime.datetime(2018, 1, 1, 0, 0): 1422.0, datetime.datetime(2018, 2, 1, 0, 0): 1151.0, datetime.datetime(2018, 3, 1, 0, 0): 734.0, datetime.datetime(2018, 4, 1, 0, 0): 609.0, datetime.datetime(2018, 5, 1, 0, 0): 614.0, datetime.datetime(2018, 6, 1, 0, 0): 1420.0, datetime.datetime(2018, 7, 1, 0, 0): 1327.0, datetime.datetime(2018, 8, 1, 0, 0): 560.0, datetime.datetime(2018, 9, 1, 0, 0): 543.0, datetime.datetime(2018, 10, 1, 0, 0): 509.0, datetime.datetime(2018, 11, 1, 0, 0): 1064.0, datetime.datetime(2018, 12, 1, 0, 0): 1019.0, datetime.datetime(2019, 1, 1, 0, 0): 1019.0, datetime.datetime(2019, 2, 1, 0, 0): 862.0, datetime.datetime(2019, 3, 1, 0, 0): 648.0, datetime.datetime(2019, 4, 1, 0, 0): 601.0, datetime.datetime(2019, 5, 1, 0, 0): 535.0, datetime.datetime(2019, 6, 1, 0, 0): 1357.0, datetime.datetime(2019, 7, 1, 0, 0): 1271.0, datetime.datetime(2019, 8, 1, 0, 0): 670.0, datetime.datetime(2019, 9, 1, 0, 0): 620.0, datetime.datetime(2019, 10, 1, 0, 0): 866.0, datetime.datetime(2019, 11, 1, 0, 0): 1927.0, datetime.datetime(2019, 12, 1, 0, 0): 1860.0, datetime.datetime(2020, 1, 1, 0, 0): 5998.0, datetime.datetime(2020, 2, 1, 0, 0): 2969.0, datetime.datetime(2020, 3, 1, 0, 0): 4316.0, datetime.datetime(2020, 4, 1, 0, 0): 2767.0, datetime.datetime(2020, 5, 1, 0, 0): 1123.0, datetime.datetime(2020, 6, 1, 0, 0): 1408.0, datetime.datetime(2020, 7, 1, 0, 0): 1380.0, datetime.datetime(2020, 8, 1, 0, 0): 745.0, datetime.datetime(2020, 9, 1, 0, 0): 693.0, datetime.datetime(2020, 10, 1, 0, 0): 1170.0, datetime.datetime(2020, 11, 1, 0, 0): 1582.0, datetime.datetime(2020, 12, 1, 0, 0): 1549.0, datetime.datetime(2021, 1, 1, 0, 0): 1612.0, datetime.datetime(2021, 2, 1, 0, 0): 1028.0, datetime.datetime(2021, 3, 1, 0, 0): 883.0, datetime.datetime(2021, 4, 1, 0, 0): 819.0, datetime.datetime(2021, 5, 1, 0, 0): 869.0, datetime.datetime(2021, 6, 1, 0, 0): 1461.0, datetime.datetime(2021, 7, 1, 0, 0): 1355.0, datetime.datetime(2021, 8, 1, 0, 0): 788.0, datetime.datetime(2021, 9, 1, 0, 0): 764.0, datetime.datetime(2021, 10, 1, 0, 0): 720.0, datetime.datetime(2021, 11, 1, 0, 0): 1284.0, datetime.datetime(2021, 12, 1, 0, 0): 1283.0, datetime.datetime(2022, 1, 1, 0, 0): 1375.0, datetime.datetime(2022, 2, 1, 0, 0): 1172.0, datetime.datetime(2022, 3, 1, 0, 0): 763.0, datetime.datetime(2022, 4, 1, 0, 0): 729.0, datetime.datetime(2022, 5, 1, 0, 0): 686.0, datetime.datetime(2022, 6, 1, 0, 0): 1158.0, datetime.datetime(2022, 7, 1, 0, 0): 1404.0, datetime.datetime(2022, 8, 1, 0, 0): 10480.0, datetime.datetime(2022, 9, 1, 0, 0): 692.0, datetime.datetime(2022, 10, 1, 0, 0): 624.0, datetime.datetime(2022, 11, 1, 0, 0): 2257.0, datetime.datetime(2022, 12, 1, 0, 0): 1822.0, datetime.datetime(2023, 1, 1, 0, 0): 1831.0, datetime.datetime(2023, 2, 1, 0, 0): 999.0, datetime.datetime(2023, 3, 1, 0, 0): 1836.0, datetime.datetime(2023, 4, 1, 0, 0): 1086.0, datetime.datetime(2023, 5, 1, 0, 0): 885.0, datetime.datetime(2023, 6, 1, 0, 0): 1515.0, datetime.datetime(2023, 7, 1, 0, 0): 1942.0, datetime.datetime(2023, 8, 1, 0, 0): 862.0, datetime.datetime(2023, 9, 1, 0, 0): 1991.0, datetime.datetime(2023, 10, 1, 0, 0): 982.0, datetime.datetime(2023, 11, 1, 0, 0): 33467.0, datetime.datetime(2023, 12, 1, 0, 0): 7451.0})\n"
     ]
    }
   ],
   "source": [
    "# id = 70\n",
    "# r = requests.get(f\"https://steamspy.com/app/{id}\").text"
   ]
  }
 ],
 "metadata": {
  "kernelspec": {
   "display_name": "Python 3",
   "language": "python",
   "name": "python3"
  },
  "language_info": {
   "codemirror_mode": {
    "name": "ipython",
    "version": 3
   },
   "file_extension": ".py",
   "mimetype": "text/x-python",
   "name": "python",
   "nbconvert_exporter": "python",
   "pygments_lexer": "ipython3",
   "version": "3.10.7"
  }
 },
 "nbformat": 4,
 "nbformat_minor": 2
}
